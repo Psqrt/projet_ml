{
 "nbformat": 4,
 "nbformat_minor": 2,
 "metadata": {
  "language_info": {
   "name": "python",
   "codemirror_mode": {
    "name": "ipython",
    "version": 3
   },
   "version": "3.7.3"
  },
  "orig_nbformat": 2,
  "file_extension": ".py",
  "mimetype": "text/x-python",
  "name": "python",
  "npconvert_exporter": "python",
  "pygments_lexer": "ipython3",
  "version": 3
 },
 "cells": [
  {
   "cell_type": "markdown",
   "execution_count": null,
   "metadata": {},
   "outputs": [],
   "source": [
    "# Projet Machine Learning\n",
    "## Partie 0 - EDA"
   ]
  },
  {
   "cell_type": "code",
   "execution_count": 1,
   "metadata": {},
   "outputs": [],
   "source": [
    "import pandas as pd\n",
    "import pandas_profiling as pp"
   ]
  },
  {
   "cell_type": "markdown",
   "execution_count": null,
   "metadata": {},
   "outputs": [],
   "source": [
    "**Remarque** : Le module `pandas_profiling` s'installe sur Anaconda grâce à la commande `conda install -c conda-forge pandas-profiling` à lancer dans la console d'anaconda."
   ]
  },
  {
   "cell_type": "markdown",
   "execution_count": null,
   "metadata": {},
   "outputs": [],
   "source": [
    "### Importation des données\n",
    "\n",
    "Le répertoire de travail est la racine du dossier. Remplacer \"./data/...\" par \"./../data/\" si vous vous repérez directement dans le repertoire `python` pour travailler."
   ]
  },
  {
   "cell_type": "code",
   "execution_count": 2,
   "metadata": {},
   "outputs": [],
   "source": [
    "train = pd.read_csv(\"./data/Base_train.csv\")\n",
    "test = pd.read_csv(\"./data/Base_test.csv\")"
   ]
  },
  {
   "cell_type": "markdown",
   "execution_count": null,
   "metadata": {},
   "outputs": [],
   "source": [
    "### Pandas Profiler\n",
    "\n",
    "Statistiques descriptives de base pour identifier le type de variables à traiter."
   ]
  },
  {
   "cell_type": "code",
   "execution_count": 6,
   "metadata": {},
   "outputs": [],
   "source": [
    "if 0:\n",
    "    report_train = pp.ProfileReport(train, title = 'Pandas Profiling Report : training set', pool_size = 11, correlations = {\n",
    "        \"pearson\": False,\n",
    "        \"spearman\": False,\n",
    "        \"kendall\": False,\n",
    "        \"phi_k\": False,\n",
    "        \"cramers\": False,\n",
    "        \"recoded\": False\n",
    "    })\n",
    "    report_train.to_file('./output/profile_report_train.html')\n",
    "\n",
    "    report_test = pp.ProfileReport(test, title = 'Pandas Profiling Report : testing set', pool_size = 11, correlations = {\n",
    "        \"pearson\": False,\n",
    "        \"spearman\": False,\n",
    "        \"kendall\": False,\n",
    "        \"phi_k\": False,\n",
    "        \"cramers\": False,\n",
    "        \"recoded\": False\n",
    "    })\n",
    "    report_test.to_file('./output/profile_report_test.html')"
   ]
  },
  {
   "cell_type": "markdown",
   "execution_count": null,
   "metadata": {},
   "outputs": [],
   "source": [
    "**Étude sur la base d'apprentissage**\n",
    "\n",
    "* `id` : Aucune aberration dans `id`\n",
    "\n",
    "* `ps_calc_01` : variable en déciles\n",
    "* `ps_calc_02` : variable en décides\n",
    "* `ps_calc_03` : variable en déciles\n",
    "* `ps_calc_04` : variable discrète (modalités de 0 à 5) avec une distribution en cloche symmetrique\n",
    "* `ps_calc_05` : variable discrète (modalités de 0 à 6) avec une distribution en cloche avec queue côté droit\n",
    "* `ps_calc_06` : variable discrète (modalités de 1 à 10) avec une distribution en cloche avec queue côté gauche\n",
    "* `ps_calc_07` : variable discrète (modalités de 0 à 9) avec une distribution en cloche avec queue côté droit\n",
    "* `ps_calc_08` : variable discrète (modalités de 2 à 12) avec une distribution en cloche avec queue côté gauche\n",
    "* `ps_calc_09` : variable discrète (modalités de 0 à 7) avec une distribution en cloche avec queue côté droit\n",
    "* `ps_calc_10` : variable discrète (modalités de 0 à 25) avec une distribution en cloche symmetrique (mais avec valeurs extrêmes hautes)\n",
    "* `ps_calc_11` : variable discrète (modalités de 0 à 18) avec une distribution en cloche symmetrique (mais avec valeurs extrêmes hautes)\n",
    "* `ps_calc_12` : variable discrète (modalités de 0 à 10) avec une distribution type log-normale\n",
    "* `ps_calc_13` : variable discrète (modalités de 0 à 13) avec une distribution type log-normale\n",
    "* `ps_calc_14` : variable discrète (modalités de 0 à 23) avec une distribution en cloche\n",
    "* `ps_calc_15` : variable binaire - RAS\n",
    "* `ps_calc_16` : variable binaire - RAS\n",
    "* `ps_calc_17` : variable binaire - RAS\n",
    "* `ps_calc_18` : variable binaire - RAS\n",
    "* `ps_calc_19` : variable binaire - RAS\n",
    "* `ps_calc_20` : variable binaire - RAS\n",
    "\n",
    "* `ps_car_01_cat` : variable qualitative (modalités de 0 à 11) avec pics à 11 (35.0%) et 7 (30.1%)\n",
    "* `ps_car_02_cat` : variable qualitative (modalités de 0 à 1) avec 5 valeurs manquantes\n",
    "* `ps_car_03_cat` : variable qualitative (modalités de 0 à 1) avec 69% de valeurs manquantes\n",
    "* `ps_car_04_cat` : variable qualitative (modalités de 0 à 9) avec pic à 0 (83.5%)\n",
    "* `ps_car_05_cat` : variable qualitative (modalités de 0 à 1) avec 44.8% de valeurs manquantes\n",
    "* `ps_car_06_cat` : variable qualitative (modalités de 0 à 17) avec pics à 11 (22.1%), 1 (20.0%) et 0 (18.5%)\n",
    "* `ps_car_07_cat` : variable qualitative (modalités de 0 à 1) avec 1.9% de valeurs manquantes et la modalité 0 à 5.2% d'effectif\n",
    "* `ps_car_08_cat` : variable qualitative (modalités de 0 à 1) - RAS\n",
    "* `ps_car_09_cat` : variable qualitative (modalités de 0 à 4) avec 387 valeurs manquantes (0.1%), pics sur 2 (59.4%) et 0 (32.6%)\n",
    "* `ps_car_10_cat` : variable qualitative (modalités de 0 à 2) avec peu de variabilité (99.2% de la modalité dominante)\n",
    "* `ps_car_11` : variable discrète (modalités de 0 à 3) avec 4 valeurs manquantes\n",
    "* `ps_car_11_cat` : variable qualitative (modalités de 1 à 104) - pic à 104 (14.3%) et 103 (4.1%) ... pourquoi `cat` alors qu'elle semble être discrète mais non qualitative ? Pourquoi le numéroter `11` alors qu'il existe déjà une variable avec ce numéro ?\n",
    "* `ps_car_12` : variable qui semble continue mais a seulement 180 valeurs distinctes ... 1 valeur manquante et pics sur des valeurs sans logique (0.316227766, 0.4 et 0.3741657387)\n",
    "* `ps_car_13` : variable continue avec une distribution en cloche avec queue côté droite (range min-max : 0.25 à 3.72 aux arrondis près)\n",
    "* `ps_car_14` : variable continue avec 7.2% de valeurs manquantes, un range min-max à 0.11 ~ 0.64 et distribution sans pattern particulier\n",
    "* `ps_car_15` : variable qui semble continue mais avec seulement 15 valeurs distinctes ... pics sur des valeurs sans logique et range min-max de 0 à 3.74.\n",
    "\n"
   ]
  }
 ]
}