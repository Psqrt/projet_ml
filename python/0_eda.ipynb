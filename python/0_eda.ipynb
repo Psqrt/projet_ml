{
 "nbformat": 4,
 "nbformat_minor": 2,
 "metadata": {
  "language_info": {
   "name": "python",
   "codemirror_mode": {
    "name": "ipython",
    "version": 3
   },
   "version": "3.7.3"
  },
  "orig_nbformat": 2,
  "file_extension": ".py",
  "mimetype": "text/x-python",
  "name": "python",
  "npconvert_exporter": "python",
  "pygments_lexer": "ipython3",
  "version": 3
 },
 "cells": [
  {
   "cell_type": "markdown",
   "execution_count": null,
   "metadata": {},
   "outputs": [],
   "source": [
    "# Projet Machine Learning\n",
    "## Partie 0 - EDA"
   ]
  },
  {
   "cell_type": "code",
   "execution_count": 1,
   "metadata": {},
   "outputs": [],
   "source": [
    "import pandas as pd\n",
    "import pandas_profiling as pp"
   ]
  },
  {
   "cell_type": "markdown",
   "execution_count": null,
   "metadata": {},
   "outputs": [],
   "source": [
    "**Remarque** : Le module `pandas_profiling` s'installe sur Anaconda grâce à la commande `conda install -c conda-forge pandas-profiling` à lancer dans la console d'anaconda."
   ]
  },
  {
   "cell_type": "markdown",
   "execution_count": null,
   "metadata": {},
   "outputs": [],
   "source": [
    "### Importation des données\n",
    "\n",
    "Le répertoire de travail est la racine du dossier. Remplacer \"./data/...\" par \"./../data/\" si vous vous repérez directement dans le repertoire `python` pour travailler."
   ]
  },
  {
   "cell_type": "code",
   "execution_count": 2,
   "metadata": {},
   "outputs": [],
   "source": [
    "train = pd.read_csv(\"./data/Base_train.csv\")\n",
    "test = pd.read_csv(\"./data/Base_test.csv\")"
   ]
  },
  {
   "cell_type": "markdown",
   "execution_count": null,
   "metadata": {},
   "outputs": [],
   "source": [
    "### Pandas Profiler\n",
    "\n",
    "Statistiques descriptives de base pour identifier le type de variables à traiter.\n",
    "\n",
    "**Remarque** : `pool_size` indique le nombre de threads du processeur à utiliser."
   ]
  },
  {
   "cell_type": "code",
   "execution_count": 3,
   "metadata": {},
   "outputs": [],
   "source": [
    "if 0:\n",
    "    report_train = pp.ProfileReport(train, title = 'Pandas Profiling Report : training set', pool_size = 11, correlations = {\n",
    "        \"pearson\": False,\n",
    "        \"spearman\": False,\n",
    "        \"kendall\": False,\n",
    "        \"phi_k\": False,\n",
    "        \"cramers\": False,\n",
    "        \"recoded\": False\n",
    "    })\n",
    "    report_train.to_file('./output/profile_report_train.html')\n",
    "\n",
    "    report_test = pp.ProfileReport(test, title = 'Pandas Profiling Report : testing set', pool_size = 11, correlations = {\n",
    "        \"pearson\": False,\n",
    "        \"spearman\": False,\n",
    "        \"kendall\": False,\n",
    "        \"phi_k\": False,\n",
    "        \"cramers\": False,\n",
    "        \"recoded\": False\n",
    "    })\n",
    "    report_test.to_file('./output/profile_report_test.html')"
   ]
  },
  {
   "cell_type": "markdown",
   "execution_count": null,
   "metadata": {},
   "outputs": [],
   "source": [
    "**Étude sur la base d'apprentissage**\n",
    "\n",
    "* `id` : Aucune aberration dans `id`\n",
    "* `target` : Aucun problème, ratio 96.3/3.7\n",
    "\n",
    "* `ps_calc_01` : variable en déciles\n",
    "* `ps_calc_02` : variable en déciles\n",
    "* `ps_calc_03` : variable en déciles\n",
    "* `ps_calc_04` : variable discrète (modalités de 0 à 5) avec une distribution en cloche symmetrique\n",
    "* `ps_calc_05` : variable discrète (modalités de 0 à 6) avec une distribution en cloche avec queue côté droit\n",
    "* `ps_calc_06` : variable discrète (modalités de 1 à 10) avec une distribution en cloche avec queue côté gauche\n",
    "* `ps_calc_07` : variable discrète (modalités de 0 à 9) avec une distribution en cloche avec queue côté droit\n",
    "* `ps_calc_08` : variable discrète (modalités de 2 à 12) avec une distribution en cloche avec queue côté gauche\n",
    "* `ps_calc_09` : variable discrète (modalités de 0 à 7) avec une distribution en cloche avec queue côté droit\n",
    "* `ps_calc_10` : variable discrète (modalités de 0 à 25) avec une distribution en cloche symmetrique (mais avec valeurs extrêmes hautes)\n",
    "* `ps_calc_11` : variable discrète (modalités de 0 à 18) avec une distribution en cloche symmetrique (mais avec valeurs extrêmes hautes)\n",
    "* `ps_calc_12` : variable discrète (modalités de 0 à 10) avec une distribution type log-normale\n",
    "* `ps_calc_13` : variable discrète (modalités de 0 à 13) avec une distribution type log-normale\n",
    "* `ps_calc_14` : variable discrète (modalités de 0 à 23) avec une distribution en cloche\n",
    "* `ps_calc_15` : variable binaire - RAS\n",
    "* `ps_calc_16` : variable binaire - RAS\n",
    "* `ps_calc_17` : variable binaire - RAS\n",
    "* `ps_calc_18` : variable binaire - RAS\n",
    "* `ps_calc_19` : variable binaire - RAS\n",
    "* `ps_calc_20` : variable binaire - RAS\n",
    "\n",
    "* `ps_car_01_cat` : variable qualitative (modalités de 0 à 11) avec pics à 11 (35.0%) et 7 (30.1%)\n",
    "* `ps_car_02_cat` : variable qualitative (modalités de 0 à 1) avec 5 valeurs manquantes\n",
    "* `ps_car_03_cat` : variable qualitative (modalités de 0 à 1) avec 69% de valeurs manquantes\n",
    "* `ps_car_04_cat` : variable qualitative (modalités de 0 à 9) avec pic à 0 (83.5%)\n",
    "* `ps_car_05_cat` : variable qualitative (modalités de 0 à 1) avec 44.8% de valeurs manquantes\n",
    "* `ps_car_06_cat` : variable qualitative (modalités de 0 à 17) avec pics à 11 (22.1%), 1 (20.0%) et 0 (18.5%)\n",
    "* `ps_car_07_cat` : variable qualitative (modalités de 0 à 1) avec 1.9% de valeurs manquantes et la modalité 0 à 5.2% d'effectif\n",
    "* `ps_car_08_cat` : variable qualitative (modalités de 0 à 1) - RAS\n",
    "* `ps_car_09_cat` : variable qualitative (modalités de 0 à 4) avec 387 valeurs manquantes (0.1%), pics sur 2 (59.4%) et 0 (32.6%)\n",
    "* `ps_car_10_cat` : variable qualitative (modalités de 0 à 2) avec peu de variabilité (99.2% de la modalité dominante)\n",
    "* `ps_car_11` : variable discrète (modalités de 0 à 3) avec 4 valeurs manquantes\n",
    "* `ps_car_11_cat` : variable qualitative (modalités de 1 à 104) - pic à 104 (14.3%) et 103 (4.1%) ... pourquoi `cat` alors qu'elle semble être discrète mais non qualitative ? Pourquoi le numéroter `11` alors qu'il existe déjà une variable avec ce numéro ?\n",
    "* `ps_car_12` : variable qui semble continue mais a seulement 180 valeurs distinctes ... 1 valeur manquante et pics sur des valeurs sans logique (0.316227766, 0.4 et 0.3741657387)\n",
    "* `ps_car_13` : variable continue avec une distribution en cloche avec queue côté droite (range min-max : 0.25 à 3.72 aux arrondis près)\n",
    "* `ps_car_14` : variable continue avec 7.2% de valeurs manquantes, un range min-max à 0.11 ~ 0.64 et distribution sans pattern particulier\n",
    "* `ps_car_15` : variable qui semble continue mais avec seulement 15 valeurs distinctes ... pics sur des valeurs sans logique et range min-max de 0 à 3.74.\n",
    "\n",
    "* `ps_ind_01` : variable qualitative (modalités de 0 à 7) - RAS\n",
    "* `ps_ind_02` : variable qualitative (modalités de 0 à 4) - 152 valeurs manquantes\n",
    "* `ps_ind_03` : variable qualitative (modalités de 0 à 11) - RAS\n",
    "* `ps_ind_04` : variable qualitative (modalités de 0 à 1) - 62 valeurs manquantes\n",
    "* `ps_ind_05_cat` : variable qualitative (modalités de 0 à 6) - 4015 (1%) de valeurs manquantes et peu de variabilité\n",
    "* `ps_ind_06_bin` jusqu'à `ps_ind_09_bin` : variable binaire - RAS\n",
    "* `ps_ind_10_bin` : variable binaire - variable peu variable (modalité à 99.9%)\n",
    "* `ps_ind_11_bin` : variable binaire - variable peu variable (modalité à 99.8%)\n",
    "* `ps_ind_12_bin` : variable binaire - variable peu variable (modalité à 99.1%)\n",
    "* `ps_ind_13_bin` : variable binaire - variable peu variable (modalité à 99.9%)\n",
    "* `ps_ind_14` : variable qualitative (modalités de 0 à 4) - peu de variabilité\n",
    "* `ps_ind_15` : variable qualitative (modalités de 0 à 13) - RAS\n",
    "* `ps_ind_16_bin` à `ps_ind_18_bin` : variable binaire - RAS\n",
    "\n",
    "* `ps_reg_01` : variable qualitative (modalités 0 - 0.1 - ... - 0.9) - avec pic à 0.9 (32.7%)\n",
    "* `ps_reg_02` : variable qualitative (modalités en pas 0.1 de 0 à 1.8) - avec pic à 0.2 0.3 0.\n",
    "* `ps_reg_03` : variable continue à normaliser (queue à droite), beaucoup de valeurs manquantes (18.1%)\n"
   ]
  },
  {
   "cell_type": "code",
   "execution_count": 5,
   "metadata": {},
   "outputs": [
    {
     "data": {
      "text/plain": "id                  int64\ntarget              int64\nps_ind_01           int64\nps_ind_02_cat     float64\nps_ind_03           int64\nps_ind_04_cat     float64\nps_ind_05_cat     float64\nps_ind_06_bin       int64\nps_ind_07_bin       int64\nps_ind_08_bin       int64\nps_ind_09_bin       int64\nps_ind_10_bin       int64\nps_ind_11_bin       int64\nps_ind_12_bin       int64\nps_ind_13_bin       int64\nps_ind_14           int64\nps_ind_15           int64\nps_ind_16_bin       int64\nps_ind_17_bin       int64\nps_ind_18_bin       int64\nps_reg_01         float64\nps_reg_02         float64\nps_reg_03         float64\nps_car_01_cat     float64\nps_car_02_cat     float64\nps_car_03_cat     float64\nps_car_04_cat       int64\nps_car_05_cat     float64\nps_car_06_cat       int64\nps_car_07_cat     float64\nps_car_08_cat       int64\nps_car_09_cat     float64\nps_car_10_cat       int64\nps_car_11_cat       int64\nps_car_11         float64\nps_car_12         float64\nps_car_13         float64\nps_car_14         float64\nps_car_15         float64\nps_calc_01        float64\nps_calc_02        float64\nps_calc_03        float64\nps_calc_04          int64\nps_calc_05          int64\nps_calc_06          int64\nps_calc_07          int64\nps_calc_08          int64\nps_calc_09          int64\nps_calc_10          int64\nps_calc_11          int64\nps_calc_12          int64\nps_calc_13          int64\nps_calc_14          int64\nps_calc_15_bin      int64\nps_calc_16_bin      int64\nps_calc_17_bin      int64\nps_calc_18_bin      int64\nps_calc_19_bin      int64\nps_calc_20_bin      int64\ndtype: object"
     },
     "execution_count": 5,
     "metadata": {},
     "output_type": "execute_result"
    }
   ],
   "source": [
    "train.dtypes"
   ]
  },
  {
   "cell_type": "code",
   "execution_count": 34,
   "metadata": {},
   "outputs": [
    {
     "name": "stdout",
     "output_type": "stream",
     "text": "Index(['ps_calc_01', 'ps_calc_02', 'ps_calc_03', 'ps_calc_04', 'ps_calc_05',\n       'ps_calc_06', 'ps_calc_07', 'ps_calc_08', 'ps_calc_09', 'ps_calc_10',\n       'ps_calc_11', 'ps_calc_12', 'ps_calc_13', 'ps_calc_14',\n       'ps_calc_15_bin', 'ps_calc_16_bin', 'ps_calc_17_bin', 'ps_calc_18_bin',\n       'ps_calc_19_bin', 'ps_calc_20_bin'],\n      dtype='object')\n"
    },
    {
     "data": {
      "text/plain": "ps_calc_01        category\nps_calc_02        category\nps_calc_03        category\nps_calc_04        category\nps_calc_05        category\nps_calc_06        category\nps_calc_07        category\nps_calc_08        category\nps_calc_09        category\nps_calc_10        category\nps_calc_11        category\nps_calc_12        category\nps_calc_13        category\nps_calc_14        category\nps_calc_15_bin    category\nps_calc_16_bin    category\nps_calc_17_bin    category\nps_calc_18_bin    category\nps_calc_19_bin    category\nps_calc_20_bin    category\ndtype: object"
     },
     "execution_count": 34,
     "metadata": {},
     "output_type": "execute_result"
    }
   ],
   "source": [
    "# train.astype({\"ps_car_11\": str})\n",
    "\n",
    "liste_cat = train.columns[39:59]\n",
    "print(liste_cat)\n",
    "\n",
    "train[liste_cat].astype(\"category\").dtypes\n"
   ]
  },
  {
   "cell_type": "code",
   "execution_count": 60,
   "metadata": {},
   "outputs": [
    {
     "data": {
      "text/html": "<div>\n<style scoped>\n    .dataframe tbody tr th:only-of-type {\n        vertical-align: middle;\n    }\n\n    .dataframe tbody tr th {\n        vertical-align: top;\n    }\n\n    .dataframe thead th {\n        text-align: right;\n    }\n</style>\n<table border=\"1\" class=\"dataframe\">\n  <thead>\n    <tr style=\"text-align: right;\">\n      <th>target</th>\n      <th>0</th>\n      <th>1</th>\n    </tr>\n    <tr>\n      <th>ps_reg_03</th>\n      <th></th>\n      <th></th>\n    </tr>\n  </thead>\n  <tbody>\n    <tr>\n      <th>0.061237</th>\n      <td>2</td>\n      <td>0</td>\n    </tr>\n    <tr>\n      <th>0.075000</th>\n      <td>15</td>\n      <td>0</td>\n    </tr>\n    <tr>\n      <th>0.136931</th>\n      <td>2</td>\n      <td>0</td>\n    </tr>\n    <tr>\n      <th>0.150000</th>\n      <td>3</td>\n      <td>0</td>\n    </tr>\n    <tr>\n      <th>0.154110</th>\n      <td>9</td>\n      <td>0</td>\n    </tr>\n    <tr>\n      <th>0.196850</th>\n      <td>5</td>\n      <td>0</td>\n    </tr>\n    <tr>\n      <th>0.210654</th>\n      <td>1</td>\n      <td>0</td>\n    </tr>\n    <tr>\n      <th>0.215058</th>\n      <td>1</td>\n      <td>0</td>\n    </tr>\n    <tr>\n      <th>0.226385</th>\n      <td>11</td>\n      <td>0</td>\n    </tr>\n    <tr>\n      <th>0.227761</th>\n      <td>4</td>\n      <td>0</td>\n    </tr>\n    <tr>\n      <th>0.237171</th>\n      <td>3</td>\n      <td>0</td>\n    </tr>\n    <tr>\n      <th>0.246221</th>\n      <td>20</td>\n      <td>0</td>\n    </tr>\n    <tr>\n      <th>0.251247</th>\n      <td>6</td>\n      <td>0</td>\n    </tr>\n    <tr>\n      <th>0.252488</th>\n      <td>1</td>\n      <td>0</td>\n    </tr>\n    <tr>\n      <th>0.254951</th>\n      <td>3</td>\n      <td>0</td>\n    </tr>\n    <tr>\n      <th>0.256174</th>\n      <td>50</td>\n      <td>2</td>\n    </tr>\n    <tr>\n      <th>0.258602</th>\n      <td>5</td>\n      <td>1</td>\n    </tr>\n    <tr>\n      <th>0.264575</th>\n      <td>7</td>\n      <td>0</td>\n    </tr>\n    <tr>\n      <th>0.265754</th>\n      <td>9</td>\n      <td>0</td>\n    </tr>\n    <tr>\n      <th>0.273861</th>\n      <td>10</td>\n      <td>0</td>\n    </tr>\n    <tr>\n      <th>0.276134</th>\n      <td>1</td>\n      <td>0</td>\n    </tr>\n    <tr>\n      <th>0.277263</th>\n      <td>3</td>\n      <td>0</td>\n    </tr>\n    <tr>\n      <th>0.278388</th>\n      <td>1</td>\n      <td>0</td>\n    </tr>\n    <tr>\n      <th>0.280624</th>\n      <td>1</td>\n      <td>0</td>\n    </tr>\n    <tr>\n      <th>0.281736</th>\n      <td>4</td>\n      <td>0</td>\n    </tr>\n    <tr>\n      <th>0.282843</th>\n      <td>1</td>\n      <td>0</td>\n    </tr>\n    <tr>\n      <th>0.283945</th>\n      <td>1</td>\n      <td>0</td>\n    </tr>\n    <tr>\n      <th>0.285044</th>\n      <td>7</td>\n      <td>0</td>\n    </tr>\n    <tr>\n      <th>0.287228</th>\n      <td>3</td>\n      <td>0</td>\n    </tr>\n    <tr>\n      <th>0.290474</th>\n      <td>7</td>\n      <td>1</td>\n    </tr>\n    <tr>\n      <th>...</th>\n      <td>...</td>\n      <td>...</td>\n    </tr>\n    <tr>\n      <th>2.397134</th>\n      <td>3</td>\n      <td>0</td>\n    </tr>\n    <tr>\n      <th>2.402082</th>\n      <td>4</td>\n      <td>0</td>\n    </tr>\n    <tr>\n      <th>2.402343</th>\n      <td>13</td>\n      <td>0</td>\n    </tr>\n    <tr>\n      <th>2.411949</th>\n      <td>10</td>\n      <td>1</td>\n    </tr>\n    <tr>\n      <th>2.420615</th>\n      <td>3</td>\n      <td>0</td>\n    </tr>\n    <tr>\n      <th>2.421518</th>\n      <td>3</td>\n      <td>0</td>\n    </tr>\n    <tr>\n      <th>2.444637</th>\n      <td>1</td>\n      <td>0</td>\n    </tr>\n    <tr>\n      <th>2.449362</th>\n      <td>3</td>\n      <td>0</td>\n    </tr>\n    <tr>\n      <th>2.465005</th>\n      <td>5</td>\n      <td>0</td>\n    </tr>\n    <tr>\n      <th>2.472726</th>\n      <td>22</td>\n      <td>2</td>\n    </tr>\n    <tr>\n      <th>2.497749</th>\n      <td>7</td>\n      <td>1</td>\n    </tr>\n    <tr>\n      <th>2.506990</th>\n      <td>8</td>\n      <td>0</td>\n    </tr>\n    <tr>\n      <th>2.515949</th>\n      <td>8</td>\n      <td>1</td>\n    </tr>\n    <tr>\n      <th>2.525124</th>\n      <td>4</td>\n      <td>0</td>\n    </tr>\n    <tr>\n      <th>2.539685</th>\n      <td>13</td>\n      <td>0</td>\n    </tr>\n    <tr>\n      <th>2.576092</th>\n      <td>4</td>\n      <td>0</td>\n    </tr>\n    <tr>\n      <th>2.604083</th>\n      <td>15</td>\n      <td>1</td>\n    </tr>\n    <tr>\n      <th>2.640786</th>\n      <td>3</td>\n      <td>0</td>\n    </tr>\n    <tr>\n      <th>2.643624</th>\n      <td>6</td>\n      <td>0</td>\n    </tr>\n    <tr>\n      <th>2.687820</th>\n      <td>18</td>\n      <td>1</td>\n    </tr>\n    <tr>\n      <th>2.687936</th>\n      <td>2</td>\n      <td>0</td>\n    </tr>\n    <tr>\n      <th>2.748977</th>\n      <td>3</td>\n      <td>1</td>\n    </tr>\n    <tr>\n      <th>2.766315</th>\n      <td>3</td>\n      <td>0</td>\n    </tr>\n    <tr>\n      <th>2.850877</th>\n      <td>2</td>\n      <td>1</td>\n    </tr>\n    <tr>\n      <th>2.863564</th>\n      <td>10</td>\n      <td>1</td>\n    </tr>\n    <tr>\n      <th>2.947457</th>\n      <td>14</td>\n      <td>1</td>\n    </tr>\n    <tr>\n      <th>3.197753</th>\n      <td>1</td>\n      <td>0</td>\n    </tr>\n    <tr>\n      <th>3.490791</th>\n      <td>3</td>\n      <td>0</td>\n    </tr>\n    <tr>\n      <th>4.037945</th>\n      <td>1</td>\n      <td>0</td>\n    </tr>\n    <tr>\n      <th>999.000000</th>\n      <td>73361</td>\n      <td>2135</td>\n    </tr>\n  </tbody>\n</table>\n<p>4952 rows × 2 columns</p>\n</div>",
      "text/plain": "target          0     1\nps_reg_03              \n0.061237        2     0\n0.075000       15     0\n0.136931        2     0\n0.150000        3     0\n0.154110        9     0\n...           ...   ...\n2.947457       14     1\n3.197753        1     0\n3.490791        3     0\n4.037945        1     0\n999.000000  73361  2135\n\n[4952 rows x 2 columns]"
     },
     "execution_count": 60,
     "metadata": {},
     "output_type": "execute_result"
    }
   ],
   "source": [
    "pd.crosstab(train.ps_car_03_cat.fillna(999), train.target, normalize='index')\n",
    "pd.crosstab(train.ps_car_05_cat.fillna(999), train.target, normalize='index')\n",
    "pd.crosstab(train.ps_car_07_cat.fillna(999), train.target, normalize='index')\n",
    "pd.crosstab(train.ps_reg_03.fillna(999), train.target, normalize='index')"
   ]
  },
  {
   "cell_type": "code",
   "execution_count": 38,
   "metadata": {},
   "outputs": [
    {
     "data": {
      "text/plain": "287575"
     },
     "execution_count": 38,
     "metadata": {},
     "output_type": "execute_result"
    }
   ],
   "source": [
    "train.ps_car_03_cat.isna().sum()"
   ]
  },
  {
   "cell_type": "code",
   "execution_count": null,
   "metadata": {},
   "outputs": [],
   "source": []
  }
 ]
}